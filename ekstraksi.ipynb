{
 "cells": [
  {
   "cell_type": "code",
   "execution_count": 1,
   "id": "ebf9027a",
   "metadata": {},
   "outputs": [],
   "source": [
    "import os\n",
    "\n",
    "folder = \"data/cleaned_txt\"\n",
    "files = sorted([f for f in os.listdir(folder) if f.endswith(\".txt\")])\n"
   ]
  },
  {
   "cell_type": "code",
   "execution_count": 2,
   "id": "ddec4e19",
   "metadata": {},
   "outputs": [],
   "source": [
    "import re\n",
    "from datetime import datetime\n",
    "\n",
    "def ekstrak_metadata(teks):\n",
    "    no_perkara = re.search(r\"(Nomor|No\\.)\\s*Perkara[:\\s]*([A-Za-z0-9\\/\\.\\-]+)\", teks)\n",
    "    tanggal = re.search(r\"\\b(\\d{1,2}[\\-/]\\d{1,2}[\\-/]\\d{4})\\b\", teks)\n",
    "    pasal = re.findall(r\"Pasal\\s+\\d+[A-Za-z]*\", teks)\n",
    "    pihak = re.findall(r\"(Terdakwa|Penggugat|Tergugat)\\s*[:\\-–]\\s*([A-Z][^\\n\\r]+)\", teks)\n",
    "\n",
    "    return {\n",
    "        \"no_perkara\": no_perkara.group(2) if no_perkara else \"\",\n",
    "        \"tanggal\": tanggal.group(1) if tanggal else \"\",\n",
    "        \"pasal\": \"; \".join(set(pasal)),\n",
    "        \"pihak\": \"; \".join([f\"{p[0]}: {p[1].strip()}\" for p in pihak]),\n",
    "    }\n"
   ]
  },
  {
   "cell_type": "code",
   "execution_count": 3,
   "id": "13cb27ad",
   "metadata": {},
   "outputs": [],
   "source": [
    "def ekstrak_fakta(teks):\n",
    "    match = re.search(r\"(menimbang\\s+bahwa.*?)((menimbang\\s+bahwa|menurut\\s+hukum|amar)|$)\", teks, re.IGNORECASE | re.DOTALL)\n",
    "    return match.group(1).strip() if match else \"\"\n",
    "\n",
    "def ekstrak_argumen(teks):\n",
    "    match = re.search(r\"(menurut\\s+hukum.*?)(amar\\s+putusan|demikian|putusan)\", teks, re.IGNORECASE | re.DOTALL)\n",
    "    return match.group(1).strip() if match else \"\"\n"
   ]
  },
  {
   "cell_type": "code",
   "execution_count": 4,
   "id": "8fd2a0fd",
   "metadata": {},
   "outputs": [],
   "source": [
    "def fitur_teks(teks):\n",
    "    return {\n",
    "        \"length\": len(teks.split()),  # jumlah kata\n",
    "        \"has_pasal\": \"pasal\" in teks.lower(),\n",
    "    }\n"
   ]
  },
  {
   "cell_type": "code",
   "execution_count": 5,
   "id": "0236fa71",
   "metadata": {},
   "outputs": [],
   "source": [
    "import pandas as pd\n",
    "\n",
    "data = []\n",
    "for i, file in enumerate(files):\n",
    "    with open(os.path.join(folder, file), \"r\", encoding=\"utf-8\") as f:\n",
    "        teks = f.read()\n",
    "\n",
    "    meta = ekstrak_metadata(teks)\n",
    "    fakta = ekstrak_fakta(teks)\n",
    "    argumen = ekstrak_argumen(teks)\n",
    "    fitur = fitur_teks(teks)\n",
    "\n",
    "    data.append({\n",
    "        \"case_id\": i + 1,\n",
    "        \"filename\": file,\n",
    "        \"no_perkara\": meta[\"no_perkara\"],\n",
    "        \"tanggal\": meta[\"tanggal\"],\n",
    "        \"pasal\": meta[\"pasal\"],\n",
    "        \"pihak\": meta[\"pihak\"],\n",
    "        \"ringkasan_fakta\": fakta[:500],  # potong biar ringkas\n",
    "        \"argumen_hukum\": argumen[:500],\n",
    "        \"text_full\": teks[:1000],\n",
    "        \"length\": fitur[\"length\"],\n",
    "        \"has_pasal\": fitur[\"has_pasal\"],\n",
    "    })\n",
    "\n",
    "# Simpan ke CSV dan JSON\n",
    "os.makedirs(\"data/processed\", exist_ok=True)\n",
    "pd.DataFrame(data).to_csv(\"data/processed/cases.csv\", index=False)\n",
    "pd.DataFrame(data).to_json(\"data/processed/cases.json\", orient=\"records\", indent=2)\n"
   ]
  },
  {
   "cell_type": "code",
   "execution_count": 6,
   "id": "c8306af5",
   "metadata": {},
   "outputs": [],
   "source": [
    "import os\n",
    "import re\n",
    "import pandas as pd\n",
    "\n",
    "folder_txt = \"data/cleaned_txt\"\n",
    "files = sorted([f for f in os.listdir(folder_txt) if f.endswith(\".txt\")])\n",
    "\n",
    "def ekstrak_metadata(teks):\n",
    "    # Nomor perkara\n",
    "    no_perkara = re.search(r\"(nomor|no\\.)\\s*perkara[:\\s]*([A-Za-z0-9\\/\\.\\-]+)\", teks, re.IGNORECASE)\n",
    "    \n",
    "    # Tanggal\n",
    "    tanggal = re.search(r\"\\b(\\d{1,2}[-/]\\d{1,2}[-/]\\d{4})\\b\", teks)\n",
    "    \n",
    "    # Pasal\n",
    "    pasal = re.findall(r\"pasal\\s+\\d+[A-Za-z]*\\s*(?:ayat\\s*\\([^)]+\\))?\", teks, re.IGNORECASE)\n",
    "    \n",
    "    # Nama pihak (penggugat/tergugat/terdakwa)\n",
    "    pihak = re.findall(r\"(terdakwa|penggugat|tergugat)[:\\-–]?\\s*([A-Z][^\\n\\r]+)\", teks, re.IGNORECASE)\n",
    "    \n",
    "    return {\n",
    "        \"no_perkara\": no_perkara.group(2) if no_perkara else \"\",\n",
    "        \"tanggal\": tanggal.group(1) if tanggal else \"\",\n",
    "        \"pasal\": \"; \".join(set(pasal)),\n",
    "        \"pihak\": \"; \".join([f\"{p[0].capitalize()}: {p[1].strip()}\" for p in pihak])\n",
    "    }\n",
    "\n",
    "def ekstrak_ringkasan_fakta(teks):\n",
    "    match = re.search(r\"(menimbang\\s+bahwa.*?)(menimbang|mengingat|amar)\", teks, re.IGNORECASE | re.DOTALL)\n",
    "    return match.group(1).strip() if match else teks[:700]\n",
    "\n",
    "# Gabungkan semuanya\n",
    "case_data = []\n",
    "\n",
    "for idx, file in enumerate(files):\n",
    "    with open(os.path.join(folder_txt, file), \"r\", encoding=\"utf-8\") as f:\n",
    "        teks = f.read()\n",
    "    \n",
    "    metadata = ekstrak_metadata(teks)\n",
    "    ringkasan = ekstrak_ringkasan_fakta(teks)\n",
    "    \n",
    "    case_data.append({\n",
    "        \"case_id\": idx + 1,\n",
    "        \"no_perkara\": metadata[\"no_perkara\"],\n",
    "        \"tanggal\": metadata[\"tanggal\"],\n",
    "        \"ringkasan_fakta\": ringkasan,\n",
    "        \"pasal\": metadata[\"pasal\"],\n",
    "        \"pihak\": metadata[\"pihak\"],\n",
    "        \"text_full\": teks[:3000]  # atau simpan seluruh teks\n",
    "    })\n",
    "\n",
    "# Simpan ke CSV\n",
    "os.makedirs(\"data/processed\", exist_ok=True)\n",
    "df = pd.DataFrame(case_data)\n",
    "df.to_csv(\"data/processed/cases.csv\", index=False, encoding=\"utf-8-sig\")\n"
   ]
  },
  {
   "cell_type": "code",
   "execution_count": 7,
   "id": "c28171ee",
   "metadata": {},
   "outputs": [
    {
     "name": "stdout",
     "output_type": "stream",
     "text": [
      "\n",
      "==== case (1).txt ====\n",
      " direktori putusan mahkamah agung republik indonesia putusanmahkamahagunggoid mahkamah agung republik indonesia mahkamah agung republik indonesia mahkamah agung republik indonesia mahkamah agung republik indonesia mahkamah agung republik indonesia disclaimer kepaniteraan mahkamah agung republik indonesia berusaha mencantumkan informasi akurat bentuk komitmen mahkamah agung pelayanan publik transparansi akuntabilitas pelaksanaan fungsi peradilan halhal permasalahan teknis terkait akurasi keterkinian informasi sajikan perbaiki kewaktu menemukan inakurasi informasi termuat situs informasi tersedia harap hubungi kepaniteraan mahkamah agung email kepaniteraanmahkamahagunggoid telp ext halaman putusan nomor kpidsus nomor kpidsus keadilan berdasarkan ketuhanan maha esa memeriksa perkara tindak pidana khusus tingkat kasasi dimohonkan penuntut kejaksaan negeri jakarta selatan terdakwa memutus perkara terdakwa nama fadlan djakfar lahir aceh umurtanggal lahir april jenis kelamin lakilaki kebangsaa\n"
     ]
    }
   ],
   "source": [
    "for f in os.listdir(\"data/cleaned_txt\"):\n",
    "    with open(os.path.join(\"data/cleaned_txt\", f), encoding=\"utf-8\") as file:\n",
    "        isi = file.read()\n",
    "        print(f\"\\n==== {f} ====\\n\", isi[:1000])  # tampilkan awal isi\n",
    "        break  # hanya 1 file untuk lihat\n"
   ]
  },
  {
   "cell_type": "code",
   "execution_count": 9,
   "id": "022efc08",
   "metadata": {},
   "outputs": [
    {
     "ename": "ModuleNotFoundError",
     "evalue": "No module named 'pdfplumber'",
     "output_type": "error",
     "traceback": [
      "\u001b[1;31m---------------------------------------------------------------------------\u001b[0m",
      "\u001b[1;31mModuleNotFoundError\u001b[0m                       Traceback (most recent call last)",
      "Cell \u001b[1;32mIn[9], line 1\u001b[0m\n\u001b[1;32m----> 1\u001b[0m \u001b[38;5;28;01mimport\u001b[39;00m\u001b[38;5;250m \u001b[39m\u001b[38;5;21;01mpdfplumber\u001b[39;00m\n\u001b[0;32m      3\u001b[0m \u001b[38;5;28;01mdef\u001b[39;00m\u001b[38;5;250m \u001b[39m\u001b[38;5;21mambil_header_pdf\u001b[39m(path_pdf):\n\u001b[0;32m      4\u001b[0m     \u001b[38;5;28;01mwith\u001b[39;00m pdfplumber\u001b[38;5;241m.\u001b[39mopen(path_pdf) \u001b[38;5;28;01mas\u001b[39;00m pdf:\n",
      "\u001b[1;31mModuleNotFoundError\u001b[0m: No module named 'pdfplumber'"
     ]
    }
   ],
   "source": [
    "import pdfplumber\n",
    "\n",
    "def ambil_header_pdf(path_pdf):\n",
    "    with pdfplumber.open(path_pdf) as pdf:\n",
    "        first_page = pdf.pages[0]\n",
    "        teks = first_page.extract_text()\n",
    "        return teks\n"
   ]
  }
 ],
 "metadata": {
  "kernelspec": {
   "display_name": "Python 3",
   "language": "python",
   "name": "python3"
  },
  "language_info": {
   "codemirror_mode": {
    "name": "ipython",
    "version": 3
   },
   "file_extension": ".py",
   "mimetype": "text/x-python",
   "name": "python",
   "nbconvert_exporter": "python",
   "pygments_lexer": "ipython3",
   "version": "3.9.11"
  }
 },
 "nbformat": 4,
 "nbformat_minor": 5
}
