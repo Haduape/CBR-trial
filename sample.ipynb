{
 "cells": [
  {
   "cell_type": "code",
   "execution_count": 51,
   "id": "00d955a9",
   "metadata": {},
   "outputs": [],
   "source": [
    "from pdfminer.high_level import extract_text\n",
    "import os"
   ]
  },
  {
   "cell_type": "code",
   "execution_count": 52,
   "id": "f36b3ed4",
   "metadata": {},
   "outputs": [
    {
     "name": "stderr",
     "output_type": "stream",
     "text": [
      "[nltk_data] Downloading package punkt to\n",
      "[nltk_data]     C:\\Users\\Handhika\\AppData\\Roaming\\nltk_data...\n",
      "[nltk_data]   Package punkt is already up-to-date!\n",
      "[nltk_data] Downloading package stopwords to\n",
      "[nltk_data]     C:\\Users\\Handhika\\AppData\\Roaming\\nltk_data...\n",
      "[nltk_data]   Package stopwords is already up-to-date!\n"
     ]
    },
    {
     "data": {
      "text/plain": [
       "True"
      ]
     },
     "execution_count": 52,
     "metadata": {},
     "output_type": "execute_result"
    }
   ],
   "source": [
    "import nltk\n",
    "nltk.download('punkt')\n",
    "nltk.download('stopwords')\n"
   ]
  },
  {
   "cell_type": "code",
   "execution_count": 53,
   "id": "19c95cf6",
   "metadata": {},
   "outputs": [],
   "source": [
    "import re\n",
    "from nltk.tokenize import word_tokenize\n",
    "from nltk.corpus import stopwords\n",
    "\n",
    "stopwords_id = set(stopwords.words('indonesian'))\n",
    "\n",
    "def bersihkan_teks(teks):\n",
    "    # 1. Hilangkan header/footer/nama pengadilan\n",
    "    teks = re.sub(r'^(MAHKAMAH.*?PUTUSAN).*', '', teks, flags=re.IGNORECASE | re.DOTALL)\n",
    "    \n",
    "    # 2. Hilangkan karakter non-alfabet\n",
    "    teks = re.sub(r'[^\\w\\s]', ' ', teks)\n",
    "\n",
    "    # 3. Normalisasi: huruf kecil\n",
    "    teks = teks.lower()\n",
    "\n",
    "    # 4. Tokenisasi\n",
    "    tokens = word_tokenize(teks)\n",
    "\n",
    "    # 5. Hapus stopword\n",
    "    tokens = [t for t in tokens if t not in stopwords_id and len(t) > 2]\n",
    "\n",
    "    # 6. Gabung kembali jadi string\n",
    "    return ' '.join(tokens)\n"
   ]
  },
  {
   "cell_type": "code",
   "execution_count": 54,
   "id": "ff87268c",
   "metadata": {},
   "outputs": [
    {
     "name": "stderr",
     "output_type": "stream",
     "text": [
      "[nltk_data] Downloading package punkt to\n",
      "[nltk_data]     C:\\Users\\Handhika\\AppData\\Roaming\\nltk_data...\n",
      "[nltk_data]   Package punkt is already up-to-date!\n",
      "[nltk_data] Downloading package stopwords to\n",
      "[nltk_data]     C:\\Users\\Handhika\\AppData\\Roaming\\nltk_data...\n",
      "[nltk_data]   Package stopwords is already up-to-date!\n"
     ]
    }
   ],
   "source": [
    "import nltk\n",
    "nltk.download('punkt')  # Only needed once\n",
    "nltk.download('stopwords')  # Only needed once\n",
    "from nltk.tokenize import word_tokenize\n",
    "\n",
    "def bersihkan_teks(teks):\n",
    "    tokens = word_tokenize(teks)  # Will now work\n",
    "    # ... rest of your cleaning code ..."
   ]
  },
  {
   "cell_type": "code",
   "execution_count": 55,
   "id": "bf914ab2",
   "metadata": {},
   "outputs": [
    {
     "name": "stderr",
     "output_type": "stream",
     "text": [
      "[nltk_data] Downloading package punkt to\n",
      "[nltk_data]     C:\\Users\\Handhika\\AppData\\Roaming\\nltk_data...\n",
      "[nltk_data]   Package punkt is already up-to-date!\n",
      "[nltk_data] Downloading package stopwords to\n",
      "[nltk_data]     C:\\Users\\Handhika\\AppData\\Roaming\\nltk_data...\n",
      "[nltk_data]   Package stopwords is already up-to-date!\n",
      "100%|██████████| 33/33 [00:01<00:00, 25.74it/s]\n"
     ]
    }
   ],
   "source": [
    "import os\n",
    "import re\n",
    "from tqdm import tqdm\n",
    "import nltk\n",
    "from nltk.tokenize import word_tokenize\n",
    "from nltk.corpus import stopwords\n",
    "\n",
    "# Download NLTK data if not already downloaded\n",
    "nltk.download('punkt')\n",
    "nltk.download('stopwords')\n",
    "\n",
    "# Initialize Indonesian stopwords\n",
    "stopwords_id = set(stopwords.words('indonesian'))\n",
    "\n",
    "def bersihkan_teks(teks):\n",
    "    \"\"\"\n",
    "    Clean and preprocess Indonesian text by:\n",
    "    1. Removing special characters/numbers\n",
    "    2. Converting to lowercase\n",
    "    3. Tokenizing\n",
    "    4. Removing stopwords\n",
    "    5. Joining back into clean text\n",
    "    \"\"\"\n",
    "    # 1. Remove special characters and numbers\n",
    "    teks = re.sub(r'[^a-zA-Z\\s]', '', teks)\n",
    "    \n",
    "    # 2. Convert to lowercase\n",
    "    teks = teks.lower()\n",
    "    \n",
    "    # 3. Tokenize\n",
    "    tokens = word_tokenize(teks)\n",
    "    \n",
    "    # 4. Remove stopwords and short words\n",
    "    tokens = [t for t in tokens if t not in stopwords_id and len(t) > 2]\n",
    "    \n",
    "    # 5. Join back into clean text\n",
    "    return ' '.join(tokens)\n",
    "\n",
    "# Folder paths\n",
    "folder_txt = \"data/extracted_texts/\"\n",
    "folder_cleaned = \"data/cleaned_txt/\"\n",
    "os.makedirs(folder_cleaned, exist_ok=True)\n",
    "\n",
    "# Process all text files\n",
    "for nama_file in tqdm(os.listdir(folder_txt)):\n",
    "    if nama_file.endswith(\".txt\"):\n",
    "        with open(os.path.join(folder_txt, nama_file), \"r\", encoding=\"utf-8\") as f:\n",
    "            teks_mentah = f.read()\n",
    "\n",
    "        teks_bersih = bersihkan_teks(teks_mentah)\n",
    "\n",
    "        with open(os.path.join(folder_cleaned, nama_file), \"w\", encoding=\"utf-8\") as f:\n",
    "            f.write(teks_bersih)"
   ]
  },
  {
   "cell_type": "code",
   "execution_count": 56,
   "id": "9dcde7a4",
   "metadata": {},
   "outputs": [],
   "source": [
    "import re\n",
    "\n",
    "def ekstrak_metadata(teks):\n",
    "    metadata = {}\n",
    "\n",
    "    nomor = re.search(r\"nomor\\s*:?\\s*([\\w./-]+)\", teks, re.IGNORECASE)\n",
    "    tanggal = re.search(r\"tanggal putusan\\s*:?\\s*([^\\n]+)\", teks, re.IGNORECASE)\n",
    "    pasal = re.findall(r'pasal\\s+\\d+\\s*(?:ayat\\s+\\(\\d+\\))?', teks, re.IGNORECASE)\n",
    "\n",
    "    metadata[\"nomor_perkara\"] = nomor.group(1) if nomor else None\n",
    "    metadata[\"tanggal\"] = tanggal.group(1) if tanggal else None\n",
    "    metadata[\"pasal\"] = pasal\n",
    "    return metadata\n"
   ]
  },
  {
   "cell_type": "code",
   "execution_count": 57,
   "id": "02a40e65",
   "metadata": {},
   "outputs": [],
   "source": [
    "case = {\n",
    "    \"nama_file\": nama_file,\n",
    "    \"metadata\": ekstrak_metadata(teks_bersih),\n",
    "    \"teks_bersih\": teks_bersih\n",
    "}\n"
   ]
  },
  {
   "cell_type": "code",
   "execution_count": 58,
   "id": "9f0aa0c4",
   "metadata": {},
   "outputs": [],
   "source": [
    "import json\n",
    "\n",
    "semua_case = []\n",
    "for file in os.listdir(\"data/cleaned_txt\"):\n",
    "    with open(os.path.join(\"data/cleaned_txt\", file), \"r\", encoding=\"utf-8\") as f:\n",
    "        teks = f.read()\n",
    "    case = {\n",
    "        \"nama_file\": file,\n",
    "        \"metadata\": ekstrak_metadata(teks),\n",
    "        \"teks_bersih\": teks\n",
    "    }\n",
    "    semua_case.append(case)\n",
    "\n",
    "with open(\"case_base.json\", \"w\", encoding=\"utf-8\") as f:\n",
    "    json.dump(semua_case, f, ensure_ascii=False, indent=2)\n"
   ]
  },
  {
   "cell_type": "markdown",
   "id": "d1f0ebc6",
   "metadata": {},
   "source": [
    "Vector"
   ]
  },
  {
   "cell_type": "code",
   "execution_count": 59,
   "id": "38ebe9f4",
   "metadata": {},
   "outputs": [],
   "source": [
    "import os\n",
    "import pandas as pd\n",
    "\n",
    "folder = \"data/cleaned_txt\"\n",
    "dokumen = []\n",
    "\n",
    "for nama_file in os.listdir(folder):\n",
    "    if nama_file.endswith(\".txt\"):\n",
    "        with open(os.path.join(folder, nama_file), \"r\", encoding=\"utf-8\") as f:\n",
    "            teks = f.read()\n",
    "        dokumen.append({\n",
    "            \"nama_file\": nama_file,\n",
    "            \"teks\": teks\n",
    "        })\n",
    "\n",
    "df = pd.DataFrame(dokumen)\n"
   ]
  },
  {
   "cell_type": "code",
   "execution_count": 60,
   "id": "e99a103d",
   "metadata": {},
   "outputs": [
    {
     "name": "stdout",
     "output_type": "stream",
     "text": [
      "(33, 1000)\n"
     ]
    }
   ],
   "source": [
    "from sklearn.feature_extraction.text import TfidfVectorizer\n",
    "\n",
    "vectorizer = TfidfVectorizer(max_features=1000)  # kamu bisa ubah jumlah fitur\n",
    "X_tfidf = vectorizer.fit_transform(df['teks'])\n",
    "\n",
    "print(X_tfidf.shape)  # jumlah dokumen x jumlah fitur\n"
   ]
  },
  {
   "cell_type": "code",
   "execution_count": 61,
   "id": "2ae4ee5d",
   "metadata": {},
   "outputs": [
    {
     "name": "stdout",
     "output_type": "stream",
     "text": [
      "case (1).txt → Top words: ['lembar', 'agung', 'nomor', 'mahkamah', 'tanggal']\n",
      "case (10).txt → Top words: ['agung', 'mahkamah', 'nomor', 'indonesia', 'republik']\n",
      "case (11).txt → Top words: ['pendukungnya', 'astica', 'agung', 'mahkamah', 'nomor']\n",
      "case (12).txt → Top words: ['agung', 'mahkamah', 'nomor', 'bpkb', 'vinoli']\n",
      "case (13).txt → Top words: ['agung', 'mahkamah', 'indonesia', 'republik', 'informasi']\n",
      "case (14).txt → Top words: ['monta', 'perkasa', 'agung', 'mahkamah', 'indonesia']\n",
      "case (15).txt → Top words: ['piece', 'indonesia', 'master', 'agung', 'mahkamah']\n",
      "case (16).txt → Top words: ['agung', 'mahkamah', 'penyiaran', 'indonesia', 'republik']\n",
      "case (17).txt → Top words: ['mahkamah', 'agung', 'republik', 'indonesia', 'informasi']\n",
      "case (18).txt → Top words: ['agung', 'mahkamah', 'indonesia', 'republik', 'samarinda']\n",
      "case (19).txt → Top words: ['agung', 'mahkamah', 'indonesia', 'republik', 'medan']\n",
      "case (2).txt → Top words: ['nestle', 'pajak', 'copy', 'indonesia', 'pertambahan']\n",
      "case (20).txt → Top words: ['lembarfaktur', 'nomor', 'agung', 'mahkamah', 'pajak']\n",
      "case (21).txt → Top words: ['nomor', 'agung', 'mahkamah', 'setfaktur', 'republik']\n",
      "case (22).txt → Top words: ['lembar', 'cst', 'agung', 'mahkamah', 'nocst']\n",
      "case (23).txt → Top words: ['agung', 'mahkamah', 'indonesia', 'republik', 'nomor']\n",
      "case (24).txt → Top words: ['agung', 'mahkamah', 'nomor', 'indonesia', 'republik']\n",
      "case (25).txt → Top words: ['agung', 'mahkamah', 'indonesia', 'republik', 'nomor']\n",
      "case (26).txt → Top words: ['bal', 'isi', 'bungkus', 'slop', 'batang']\n",
      "case (27).txt → Top words: ['agung', 'mahkamah', 'indonesia', 'republik', 'nomorketeranganppnwpjkpfotokopilegalisir']\n",
      "case (28).txt → Top words: ['agung', 'mahkamah', 'indonesia', 'republik', 'ganani']\n",
      "case (29).txt → Top words: ['agung', 'mahkamah', 'indonesia', 'republik', 'nomor']\n",
      "case (3).txt → Top words: ['agung', 'mahkamah', 'peninjauan', 'republik', 'indonesia']\n",
      "case (30).txt → Top words: ['agung', 'mahkamah', 'indonesia', 'republik', 'nomor']\n",
      "case (31).txt → Top words: ['agung', 'mahkamah', 'balla', 'indonesia', 'republik']\n",
      "case (32).txt → Top words: ['muldiyanto', 'andar', 'doni', 'irsan', 'tampubolon']\n",
      "case (33).txt → Top words: ['set', 'pendukungnya', 'fotokopi', 'dokumen', 'kudangan']\n",
      "case (4).txt → Top words: ['cst', 'lembar', 'nomor', 'agung', 'mahkamah']\n",
      "case (5).txt → Top words: ['agung', 'mahkamah', 'indonesia', 'republik', 'nomor']\n",
      "case (6).txt → Top words: ['agung', 'mahkamah', 'cukai', 'indonesia', 'republik']\n",
      "case (7).txt → Top words: ['agung', 'mahkamah', 'republik', 'indonesia', 'puluh']\n",
      "case (8).txt → Top words: ['dilegalisir', 'agung', 'mahkamah', 'fotokopi', 'indonesia']\n",
      "case (9).txt → Top words: ['agung', 'mahkamah', 'nomor', 'indonesia', 'republik']\n"
     ]
    }
   ],
   "source": [
    "feature_names = vectorizer.get_feature_names_out()\n",
    "\n",
    "for i, row in enumerate(X_tfidf.toarray()):\n",
    "    top_idx = row.argsort()[-5:][::-1]  # 5 kata terpenting\n",
    "    top_words = [feature_names[j] for j in top_idx]\n",
    "    print(f\"{df.iloc[i]['nama_file']} → Top words: {top_words}\")\n"
   ]
  },
  {
   "cell_type": "code",
   "execution_count": 62,
   "id": "3c86b9df",
   "metadata": {},
   "outputs": [],
   "source": [
    "query = \"terdakwa membawa sabu dan melanggar pasal 114 uu narkotika\"\n",
    "query_vec = vectorizer.transform([query])\n"
   ]
  },
  {
   "cell_type": "code",
   "execution_count": 63,
   "id": "caefed16",
   "metadata": {},
   "outputs": [
    {
     "name": "stdout",
     "output_type": "stream",
     "text": [
      "Top 5 kasus paling mirip:\n",
      "case (19).txt (score: 0.124)\n",
      "case (16).txt (score: 0.117)\n",
      "case (18).txt (score: 0.114)\n",
      "case (30).txt (score: 0.109)\n",
      "case (15).txt (score: 0.097)\n"
     ]
    }
   ],
   "source": [
    "from sklearn.metrics.pairwise import cosine_similarity\n",
    "\n",
    "similarities = cosine_similarity(query_vec, X_tfidf).flatten()\n",
    "top_k = similarities.argsort()[-5:][::-1]\n",
    "\n",
    "print(\"Top 5 kasus paling mirip:\")\n",
    "for idx in top_k:\n",
    "    print(f\"{df.iloc[idx]['nama_file']} (score: {similarities[idx]:.3f})\")\n"
   ]
  },
  {
   "cell_type": "code",
   "execution_count": 64,
   "id": "68c8a6ac",
   "metadata": {},
   "outputs": [],
   "source": [
    "import transformers"
   ]
  },
  {
   "cell_type": "code",
   "execution_count": 65,
   "id": "efbad338",
   "metadata": {},
   "outputs": [],
   "source": [
    "from transformers import AutoTokenizer, AutoModel\n",
    "import torch\n",
    "\n",
    "tokenizer = AutoTokenizer.from_pretrained(\"indobenchmark/indobert-base-p1\")\n",
    "model = AutoModel.from_pretrained(\"indobenchmark/indobert-base-p1\")\n"
   ]
  },
  {
   "cell_type": "code",
   "execution_count": 66,
   "id": "0eecfe38",
   "metadata": {},
   "outputs": [],
   "source": [
    "def bert_embed(text):\n",
    "    inputs = tokenizer(text, return_tensors=\"pt\", truncation=True, padding=True, max_length=512)\n",
    "    with torch.no_grad():\n",
    "        outputs = model(**inputs)\n",
    "    last_hidden_state = outputs.last_hidden_state  # [1, seq_len, hidden_size]\n",
    "    embeddings = last_hidden_state.mean(dim=1)     # [1, hidden_size]\n",
    "    return embeddings.squeeze().numpy()\n"
   ]
  },
  {
   "cell_type": "markdown",
   "id": "1e98fb3f",
   "metadata": {},
   "source": [
    "Case  Retrieval"
   ]
  },
  {
   "cell_type": "code",
   "execution_count": 93,
   "id": "9584ec1e",
   "metadata": {},
   "outputs": [
    {
     "name": "stderr",
     "output_type": "stream",
     "text": [
      "100%|██████████| 33/33 [00:02<00:00, 12.23it/s]\n"
     ]
    }
   ],
   "source": [
    "import os\n",
    "import numpy as np\n",
    "from tqdm import tqdm\n",
    "\n",
    "folder = \"data/cleaned_txt\"\n",
    "vectors = []\n",
    "filenames = []\n",
    "\n",
    "for file in tqdm(os.listdir(folder)):\n",
    "    if file.endswith(\".txt\"):\n",
    "        with open(os.path.join(folder, file), \"r\", encoding=\"utf-8\") as f:\n",
    "            text = f.read()\n",
    "\n",
    "        # Buat vektor IndoBERT\n",
    "        try:\n",
    "            vec = bert_embed(text)\n",
    "            vectors.append(vec)\n",
    "            filenames.append(file)\n",
    "        except Exception as e:\n",
    "            print(f\"Gagal embed {file}: {e}\")\n"
   ]
  },
  {
   "cell_type": "code",
   "execution_count": 94,
   "id": "79b3babf",
   "metadata": {},
   "outputs": [],
   "source": [
    "from sklearn.model_selection import train_test_split\n",
    "\n",
    "df = pd.read_csv(\"data/processed/cases.csv\")\n",
    "train_df, test_df = train_test_split(df, test_size=0.2, random_state=42)\n",
    "\n",
    "train_df.to_csv(\"data/processed/train.csv\", index=False)\n",
    "test_df.to_csv(\"data/processed/test.csv\", index=False)\n"
   ]
  },
  {
   "cell_type": "code",
   "execution_count": 91,
   "id": "bcd9cba3",
   "metadata": {},
   "outputs": [],
   "source": [
    "def retrieve(query: str, vectors, filenames, k: int = 5):\n",
    "    # 1) Preprocess query (opsional)\n",
    "    # 2) Hitung vektor query\n",
    "    query_vec = bert_embed(query)\n",
    "\n",
    "    # 3) Hitung cosine similarity\n",
    "    from sklearn.metrics.pairwise import cosine_similarity\n",
    "    similarities = cosine_similarity([query_vec], vectors).flatten()\n",
    "\n",
    "    # 4) Ambil top-k indeks\n",
    "    top_k = similarities.argsort()[-k:][::-1]\n",
    "\n",
    "    # 5) Kembalikan list case_id atau nama file\n",
    "    return [filenames[i] for i in top_k]\n"
   ]
  },
  {
   "cell_type": "code",
   "execution_count": 95,
   "id": "8c906799",
   "metadata": {},
   "outputs": [
    {
     "name": "stdout",
     "output_type": "stream",
     "text": [
      "33\n",
      "(384,)\n"
     ]
    }
   ],
   "source": [
    "print(len(vectors))   # Harusnya: 33\n",
    "print(vectors[0].shape)  # Harusnya: (768,)"
   ]
  },
  {
   "cell_type": "code",
   "execution_count": 89,
   "id": "4ab3db2a",
   "metadata": {},
   "outputs": [],
   "source": [
    "vectors = []\n",
    "filenames = []\n"
   ]
  },
  {
   "cell_type": "code",
   "execution_count": 72,
   "id": "bd4af660",
   "metadata": {},
   "outputs": [
    {
     "name": "stdout",
     "output_type": "stream",
     "text": [
      "[]\n"
     ]
    }
   ],
   "source": [
    "print(filenames[:34])\n",
    "# Output: ['putusan1.txt', 'putusan2.txt', 'putusan3.txt']\n"
   ]
  },
  {
   "cell_type": "code",
   "execution_count": 73,
   "id": "51b5944c",
   "metadata": {},
   "outputs": [],
   "source": [
    "for f in os.listdir(\"data/cleaned_txt\"):\n",
    "    with open(os.path.join(\"data/cleaned_txt\", f), \"r\", encoding=\"utf-8\") as file:\n",
    "        teks = file.read().lower()\n",
    "        if \"faktur pajak\" in teks and \"pasal 39\" in teks:\n",
    "            print(f)\n"
   ]
  },
  {
   "cell_type": "code",
   "execution_count": 74,
   "id": "ce00474c",
   "metadata": {},
   "outputs": [
    {
     "data": {
      "text/plain": [
       "[{'query': 'Terdakwa tidak menyampaikan SPT Tahunan selama 3 tahun berturut-turut dan menyebabkan kerugian pada pendapatan negara.',\n",
       "  'ground_truth': ['putusan_01.txt']},\n",
       " {'query': 'Wajib Pajak didakwa memalsukan faktur pajak dan melanggar Pasal 39 ayat (1) huruf c UU KUP.',\n",
       "  'ground_truth': ['putusan_04.txt']},\n",
       " {'query': 'Terdakwa menyampaikan SPT Masa PPN yang tidak benar sehingga merugikan negara.',\n",
       "  'ground_truth': ['putusan_07.txt']},\n",
       " {'query': 'Tersangka menyuruh orang lain membuat faktur pajak fiktif untuk menghindari pembayaran PPN.',\n",
       "  'ground_truth': ['putusan_12.txt']},\n",
       " {'query': 'Wajib pajak diduga dengan sengaja tidak menyetorkan pajak yang telah dipotong dari pihak lain.',\n",
       "  'ground_truth': ['putusan_15.txt']}]"
      ]
     },
     "execution_count": 74,
     "metadata": {},
     "output_type": "execute_result"
    }
   ],
   "source": [
    "[\n",
    "  {\n",
    "    \"query\": \"Terdakwa tidak menyampaikan SPT Tahunan selama 3 tahun berturut-turut dan menyebabkan kerugian pada pendapatan negara.\",\n",
    "    \"ground_truth\": [\"putusan_01.txt\"]\n",
    "  },\n",
    "  {\n",
    "    \"query\": \"Wajib Pajak didakwa memalsukan faktur pajak dan melanggar Pasal 39 ayat (1) huruf c UU KUP.\",\n",
    "    \"ground_truth\": [\"putusan_04.txt\"]\n",
    "  },\n",
    "  {\n",
    "    \"query\": \"Terdakwa menyampaikan SPT Masa PPN yang tidak benar sehingga merugikan negara.\",\n",
    "    \"ground_truth\": [\"putusan_07.txt\"]\n",
    "  },\n",
    "  {\n",
    "    \"query\": \"Tersangka menyuruh orang lain membuat faktur pajak fiktif untuk menghindari pembayaran PPN.\",\n",
    "    \"ground_truth\": [\"putusan_12.txt\"]\n",
    "  },\n",
    "  {\n",
    "    \"query\": \"Wajib pajak diduga dengan sengaja tidak menyetorkan pajak yang telah dipotong dari pihak lain.\",\n",
    "    \"ground_truth\": [\"putusan_15.txt\"]\n",
    "  }\n",
    "]\n"
   ]
  },
  {
   "cell_type": "code",
   "execution_count": 79,
   "id": "0a8fb836",
   "metadata": {},
   "outputs": [],
   "source": [
    "documents = [\n",
    "    \"pelanggaran pajak tahunan oleh wajib pajak\",\n",
    "    \"ketentuan pengampunan pajak di Indonesia\",\n",
    "    \"sanksi untuk keterlambatan pembayaran PPh\",\n",
    "    \"prosedur banding pajak penghasilan\"\n",
    "]\n",
    "filenames = [\"case(1).txt\", \"case(2).txt\", \"case(3).txt\", \"case(4).txt\"]"
   ]
  },
  {
   "cell_type": "code",
   "execution_count": 98,
   "id": "36505940",
   "metadata": {},
   "outputs": [
    {
     "name": "stdout",
     "output_type": "stream",
     "text": [
      "case (8).txt: 0.3913\n",
      "case (4).txt: 0.3798\n",
      "case (3).txt: 0.2745\n",
      "case (9).txt: 0.2676\n",
      "case (7).txt: 0.1847\n"
     ]
    }
   ],
   "source": [
    "from sentence_transformers import SentenceTransformer\n",
    "from sklearn.metrics.pairwise import cosine_similarity\n",
    "import numpy as np\n",
    "\n",
    "# Initialize model\n",
    "model = SentenceTransformer('paraphrase-multilingual-MiniLM-L12-v2')\n",
    "\n",
    "def bert_embed(text):\n",
    "    \"\"\"Returns 1D numpy array\"\"\"\n",
    "    return model.encode(text, convert_to_numpy=True).flatten()\n",
    "\n",
    "def retrieve_similar_cases(query, vectors, filenames, k=5):\n",
    "    try:\n",
    "        # 1. Validate inputs\n",
    "        if len(vectors) == 0 or len(filenames) == 0:\n",
    "            raise ValueError(\"Empty vectors or filenames list\")\n",
    "        if len(vectors) != len(filenames):\n",
    "            raise ValueError(\"Vectors and filenames length mismatch\")\n",
    "            \n",
    "        # 2. Get query embedding\n",
    "        query_vec = bert_embed(query).reshape(1, -1)\n",
    "        vectors = np.array(vectors)\n",
    "        \n",
    "        # 3. Calculate similarities\n",
    "        similarities = cosine_similarity(query_vec, vectors)[0]\n",
    "        \n",
    "        # 4. Get top-k results with bounds checking\n",
    "        valid_k = min(k, len(filenames))\n",
    "        top_k = similarities.argsort()[-valid_k:][::-1]\n",
    "        \n",
    "        return [(filenames[i], similarities[i]) for i in top_k if i < len(filenames)]\n",
    "    \n",
    "    except Exception as e:\n",
    "        print(f\"Error in retrieval: {str(e)}\")\n",
    "        return []\n",
    "\n",
    "documents = [\n",
    "    # case (1).txt\n",
    "    \"Terdakwa Fadlan Djakfar didakwa sengaja membantu tindak pidana perpajakan berlanjut, yaitu menerbitkan faktur pajak berbarcode identitas Agung Kota Mandiri yang terbukti tidak berdasarkan transaksi sebenarnya, menyebabkan kerugian negara sebesar 96 juta rupiah lebih. Putusan kasasi memperbaiki denda.\",\n",
    "    \n",
    "    # case (2).txt\n",
    "    \"Terdakwa Ida Laila binti Musripin, ketua kelompok usaha Rendingan, didakwa sengaja tidak menyetorkan Pajak Pertambahan Nilai (PPN) yang dipungut dari transaksi penjualan biji kopi. Kerugian pendapatan negara dihitung 10 miliar rupiah lebih. Terdakwa menjual aset tanah untuk menutupi denda.\",\n",
    "    \n",
    "    # case (3).txt\n",
    "    \"Terdakwa Ir. Roni Wijaya, Direktur Keuangan PT Dutasari Citralaras, didakwa tindak pidana perpajakan dan tindak pidana pencucian uang. Terdakwa menginstruksikan pembelian dan penggunaan faktur pajak fiktif serta menyamarkan hasil tindak pidana untuk membeli aset properti. Putusan peninjauan kembali membatalkan putusan sebelumnya dan memerintahkan pengembalian kelebihan bayar denda.\",\n",
    "    \n",
    "    # case (4).txt\n",
    "    \"Terdakwa Dian Ekawati, Komisaris PT Cahayasurya Timur, didakwa sengaja tidak menyetorkan SPT Tahunan dan memalsukan faktur pajak. Terdakwa terbukti melakukan pengkreditan faktur pajak fiktif tanpa transaksi sebenarnya, menyebabkan kerugian negara. Putusan kasasi menguatkan putusan pengadilan negeri dengan pidana penjara dan denda.\",\n",
    "    \n",
    "    # case (5).txt\n",
    "    \"Terpidana Albert Lie, Direktur Karyaputra Lokatirta, didakwa pidana perpajakan karena menggunakan faktur pajak fiktif berdasarkan transaksi tidak sebenarnya (TBTS) yang dibeli dengan tujuan memperkecil pembayaran pajak. Putusan peninjauan kembali menolak permohonan terpidana dan menguatkan putusan sebelumnya.\",\n",
    "    \n",
    "    # case (6).txt\n",
    "    \"Terdakwa Suminto bin Priyo Utomo didakwa menyediakan dan menjual barang kena cukai (rokok) jenis Sigaret Putih Mesin (SPM) merek Luffman American Blend tanpa dilekati pita cukai. Perbuatan ini menimbulkan kerugian negara. Putusan kasasi menolak permohonan penuntut dan menguatkan pidana yang dijatuhkan.\",\n",
    "    \n",
    "    # case (7).txt\n",
    "    \"Terdakwa Mohamad Aly Shobat, Direktur Cahaya Firdaus, didakwa sengaja tidak menyetorkan Pajak Pertambahan Nilai (PPN) yang telah dipungut dari perusahaan seperti Pertamina. Putusan peninjauan kembali mengabulkan permohonan terpidana, membatalkan putusan sebelumnya, dan memerintahkan pengembalian kelebihan bayar denda karena kerugian negara telah dipulihkan.\",\n",
    "    \n",
    "    # case (8).txt\n",
    "    \"Terdakwa Tri Anis Noorbaiti, mantan General Manager Finance Accounting Shields Indonesia, didakwa tidak melaporkan SPT lengkap dan tidak menyetorkan pajak yang dipotong/dipungut (PPN dan PPh Pasal 23 rekanan). Putusan peninjauan kembali menguatkan bahwa terpidana terbukti bersalah.\",\n",
    "    \n",
    "    # case (9).txt\n",
    "    \"Terdakwa Ihmar, Direktur Andoyo Tofan Nugraha Abadi, didakwa sengaja menerbitkan faktur pajak berdasarkan transaksi tidak sebenarnya (TBTS) dan mengkreditkan SPT PPN fiktif, yang menyebabkan kerugian negara. Putusan kasasi menolak permohonan terpidana dan menguatkan putusan sebelumnya.\",\n",
    "]\n",
    "\n",
    "filenames = [\n",
    "    \"case (1).txt\",\n",
    "    \"case (2).txt\",\n",
    "    \"case (3).txt\",\n",
    "    \"case (4).txt\",\n",
    "    \"case (5).txt\",\n",
    "    \"case (6).txt\",\n",
    "    \"case (7).txt\",\n",
    "    \"case (8).txt\",\n",
    "    \"case (9).txt\"\n",
    "]\n",
    "# Precompute vectors\n",
    "vectors = [bert_embed(doc) for doc in documents]\n",
    "\n",
    "# Test query\n",
    "query = \"Pelanggaran SPT Tahunan\"\n",
    "results = retrieve_similar_cases(query, vectors, filenames)\n",
    "\n",
    "if not results:\n",
    "    print(\"⚠️ No results returned. Check your inputs.\")\n",
    "else:\n",
    "    for filename, score in results:\n",
    "        print(f\"{filename}: {score:.4f}\")"
   ]
  },
  {
   "cell_type": "code",
   "execution_count": 84,
   "id": "cbd36755",
   "metadata": {},
   "outputs": [],
   "source": [
    "top_k = [3, 7, 10, 4, 19]  # indeks file teratas hasil similarity\n",
    "filenames = [...]           # nama-nama file .txt\n"
   ]
  },
  {
   "cell_type": "code",
   "execution_count": 85,
   "id": "6a844c9b",
   "metadata": {},
   "outputs": [],
   "source": [
    "def ambil_teks_file(nama_file, folder=\"data/cleaned_txt\"):\n",
    "    with open(os.path.join(folder, nama_file), \"r\", encoding=\"utf-8\") as f:\n",
    "        return f.read()\n"
   ]
  },
  {
   "cell_type": "code",
   "execution_count": 99,
   "id": "31a1a903",
   "metadata": {},
   "outputs": [
    {
     "name": "stdout",
     "output_type": "stream",
     "text": [
      "Shape vectors: 9\n",
      "Shape filenames: 9\n"
     ]
    }
   ],
   "source": [
    "print(\"Shape vectors:\", len(vectors))\n",
    "print(\"Shape filenames:\", len(filenames))"
   ]
  },
  {
   "cell_type": "code",
   "execution_count": 100,
   "id": "b8ae42ef",
   "metadata": {},
   "outputs": [],
   "source": [
    "from sklearn.model_selection import train_test_split\n",
    "\n",
    "# Contoh split vektor dan nama file\n",
    "X_train, X_test, filenames_train, filenames_test = train_test_split(vectors, filenames, test_size=0.2, random_state=42)\n"
   ]
  },
  {
   "cell_type": "code",
   "execution_count": 101,
   "id": "26d8d29c",
   "metadata": {},
   "outputs": [
    {
     "name": "stdout",
     "output_type": "stream",
     "text": [
      "✅ queries.json berhasil dibuat.\n"
     ]
    }
   ],
   "source": [
    "import json\n",
    "import os\n",
    "\n",
    "# Buat folder eval jika belum ada\n",
    "os.makedirs(\"data/eval\", exist_ok=True)\n",
    "\n",
    "# Isi queries dan ground_truth (silakan sesuaikan)\n",
    "queries = [\n",
    "  {\n",
    "    \"query\": \"Terdakwa tidak menyampaikan Surat Pemberitahuan (SPT) Tahunan Pajak Penghasilan secara sengaja, yang mengakibatkan kerugian pendapatan negara.\",\n",
    "    \"ground_truth\": [\"case (24).txt\"]\n",
    "  },\n",
    "  {\n",
    "    \"query\": \"Terdakwa mengkreditkan faktur pajak fiktif tanpa transaksi sebenarnya, melanggar UU Ketentuan Umum dan Tata Cara Perpajakan.\",\n",
    "    \"ground_truth\": [\"case (30).txt\"]\n",
    "  },\n",
    "  {\n",
    "    \"query\": \"Terdakwa menyampaikan faktur pajak tidak sah untuk mengurangi pajak yang terutang, menyebabkan kerugian negara.\",\n",
    "    \"ground_truth\": [\"case (4).txt\"]\n",
    "  },\n",
    "  {\n",
    "    \"query\": \"Terdakwa terbukti melakukan pelanggaran Pasal 39 UU KUP dan Pasal 3 UU TPPU karena menyembunyikan aset dari penghasilan tak sah.\",\n",
    "    \"ground_truth\": [\"case (3).txt\"]\n",
    "  },\n",
    "  {\n",
    "    \"query\": \"Terdakwa tidak menyetorkan PPN yang telah dipungut kepada negara, berdasarkan pasal 39 ayat 1 huruf i UU KUP.\",\n",
    "    \"ground_truth\": [\"case (33).txt\"]\n",
    "  }\n",
    "]\n",
    "\n",
    "\n",
    "# Simpan ke JSON\n",
    "with open(\"data/eval/queries.json\", \"w\", encoding=\"utf-8\") as f:\n",
    "    json.dump(queries, f, indent=2, ensure_ascii=False)\n",
    "\n",
    "print(\"✅ queries.json berhasil dibuat.\")\n"
   ]
  },
  {
   "cell_type": "code",
   "execution_count": 102,
   "id": "51f20af8",
   "metadata": {},
   "outputs": [],
   "source": [
    "def evaluate_retrieval(eval_queries, vectors, filenames, k=5):\n",
    "    from sklearn.metrics import precision_score\n",
    "\n",
    "    total = 0\n",
    "    matched = 0\n",
    "    for q in eval_queries:\n",
    "        pred = retrieve(q[\"query\"], vectors, filenames, k=k)\n",
    "        if any(p in q[\"ground_truth\"] for p in pred):\n",
    "            matched += 1\n",
    "        total += 1\n",
    "    print(f\"Accuracy top-{k}: {matched}/{total} = {matched/total:.2f}\")\n"
   ]
  },
  {
   "cell_type": "code",
   "execution_count": 103,
   "id": "242c2dc7",
   "metadata": {},
   "outputs": [
    {
     "name": "stdout",
     "output_type": "stream",
     "text": [
      "Accuracy top-5: 2/5 = 0.40\n"
     ]
    }
   ],
   "source": [
    "import json\n",
    "\n",
    "with open(\"data/eval/queries.json\", encoding=\"utf-8\") as f:\n",
    "    queries = json.load(f)\n",
    "\n",
    "evaluate_retrieval(queries, vectors, filenames, k=5)\n"
   ]
  },
  {
   "cell_type": "code",
   "execution_count": 104,
   "id": "c35a4900",
   "metadata": {},
   "outputs": [
    {
     "name": "stdout",
     "output_type": "stream",
     "text": [
      "Jumlah dokumen: 33\n"
     ]
    }
   ],
   "source": [
    "import os\n",
    "\n",
    "folder = \"data/cleaned_txt\"\n",
    "docs = []\n",
    "filenames = []\n",
    "\n",
    "for fname in sorted(os.listdir(folder)):\n",
    "    if fname.endswith(\".txt\"):\n",
    "        with open(os.path.join(folder, fname), \"r\", encoding=\"utf-8\") as f:\n",
    "            teks = f.read()\n",
    "        docs.append(teks)\n",
    "        filenames.append(fname)\n",
    "\n",
    "print(f\"Jumlah dokumen: {len(docs)}\")\n"
   ]
  },
  {
   "cell_type": "code",
   "execution_count": 105,
   "id": "11b4c5ae",
   "metadata": {},
   "outputs": [],
   "source": [
    "from sklearn.feature_extraction.text import TfidfVectorizer\n",
    "from Sastrawi.StopWordRemover.StopWordRemoverFactory import StopWordRemoverFactory\n",
    "\n",
    "# 1. Persiapan stop words\n",
    "factory = StopWordRemoverFactory()\n",
    "stopwords = factory.get_stop_words()\n",
    "\n",
    "# 2. Inisialisasi vectorizer\n",
    "vectorizer = TfidfVectorizer(\n",
    "    max_features=1000,\n",
    "    stop_words=stopwords,\n",
    "    ngram_range=(1, 2),\n",
    "    min_df=3,  # Abaikan terms yang muncul di kurang dari 3 dokumen\n",
    "    max_df=0.8  # Abaikan terms yang muncul di lebih dari 80% dokumen\n",
    ")\n",
    "\n",
    "# 3. Fit dan transform\n",
    "X_tfidf = vectorizer.fit_transform(docs)  # Pastikan 'docs' berisi teks dokumen\n",
    "\n",
    "# 4. Dapatkan fitur (kata-kata)\n",
    "feature_names = vectorizer.get_feature_names_out()"
   ]
  },
  {
   "cell_type": "code",
   "execution_count": 106,
   "id": "a2e4aa22",
   "metadata": {},
   "outputs": [],
   "source": [
    "from sklearn.metrics.pairwise import cosine_similarity\n",
    "\n",
    "def retrieve_tfidf(query, k=5):\n",
    "    query_vec = vectorizer.transform([query])\n",
    "    sims = cosine_similarity(query_vec, X_tfidf).flatten()\n",
    "    top_k = sims.argsort()[-k:][::-1]\n",
    "    return [(filenames[i], sims[i]) for i in top_k]\n"
   ]
  },
  {
   "cell_type": "code",
   "execution_count": 107,
   "id": "fcb3d886",
   "metadata": {},
   "outputs": [
    {
     "name": "stdout",
     "output_type": "stream",
     "text": [
      "case (24).txt (skor: 0.0879)\n",
      "case (25).txt (skor: 0.0419)\n",
      "case (10).txt (skor: 0.0417)\n",
      "case (15).txt (skor: 0.0405)\n",
      "case (19).txt (skor: 0.0376)\n"
     ]
    }
   ],
   "source": [
    "query = \"Terdakwa tidak menyampaikan SPT Tahunan selama 3 tahun\"\n",
    "hasil = retrieve_tfidf(query)\n",
    "\n",
    "for fname, skor in hasil:\n",
    "    print(f\"{fname} (skor: {skor:.4f})\")\n"
   ]
  },
  {
   "cell_type": "code",
   "execution_count": 108,
   "id": "3d204c02",
   "metadata": {},
   "outputs": [],
   "source": [
    "import pickle\n",
    "\n",
    "with open(\"data/processed/tfidf_vectorizer.pkl\", \"wb\") as f:\n",
    "    pickle.dump(vectorizer, f)\n",
    "\n",
    "with open(\"data/processed/tfidf_matrix.pkl\", \"wb\") as f:\n",
    "    pickle.dump(X_tfidf, f)\n"
   ]
  },
  {
   "cell_type": "code",
   "execution_count": 110,
   "id": "16b4a69a",
   "metadata": {},
   "outputs": [],
   "source": [
    "import json\n",
    "\n",
    "def evaluate_retrieval_tfidf(queries_json_path, k=5):\n",
    "    with open(queries_json_path, \"r\", encoding=\"utf-8\") as f:\n",
    "        queries = json.load(f)\n",
    "\n",
    "    total = len(queries)\n",
    "    match = 0\n",
    "\n",
    "    for q in queries:\n",
    "        pred = retrieve_tfidf(q[\"query\"], k=k)\n",
    "        pred_files = [f for f, _ in pred]\n",
    "\n",
    "        if any(gt in pred_files for gt in q[\"ground_truth\"]):\n",
    "            match += 1\n",
    "\n",
    "        print(f\"\\n🔍 Query: {q['query']}\")\n",
    "        print(f\"🎯 Ground Truth: {q['ground_truth']}\")\n",
    "        print(f\"🔁 Prediksi Top-{k}: {pred_files}\")\n",
    "\n",
    "    accuracy = match / total\n",
    "    print(f\"\\n✅ Accuracy@{k}: {match}/{total} = {accuracy:.2%}\")\n"
   ]
  },
  {
   "cell_type": "code",
   "execution_count": 111,
   "id": "29fd25d0",
   "metadata": {},
   "outputs": [
    {
     "name": "stdout",
     "output_type": "stream",
     "text": [
      "\n",
      "Query: Terdakwa tidak menyampaikan Surat Pemberitahuan (SPT) Tahunan Pajak Penghasilan secara sengaja, yang mengakibatkan kerugian pendapatan negara.\n",
      "Ground Truth: ['case (24).txt']\n",
      "Top-5 Results: []\n",
      "\n",
      "Query: Terdakwa mengkreditkan faktur pajak fiktif tanpa transaksi sebenarnya, melanggar UU Ketentuan Umum dan Tata Cara Perpajakan.\n",
      "Ground Truth: ['case (30).txt']\n",
      "Top-5 Results: []\n",
      "\n",
      "Query: Terdakwa menyampaikan faktur pajak tidak sah untuk mengurangi pajak yang terutang, menyebabkan kerugian negara.\n",
      "Ground Truth: ['case (4).txt']\n",
      "Top-5 Results: []\n",
      "\n",
      "Query: Terdakwa terbukti melakukan pelanggaran Pasal 39 UU KUP dan Pasal 3 UU TPPU karena menyembunyikan aset dari penghasilan tak sah.\n",
      "Ground Truth: ['case (3).txt']\n",
      "Top-5 Results: []\n",
      "\n",
      "Query: Terdakwa tidak menyetorkan PPN yang telah dipungut kepada negara, berdasarkan pasal 39 ayat 1 huruf i UU KUP.\n",
      "Ground Truth: ['case (33).txt']\n",
      "Top-5 Results: []\n",
      "\n",
      "Accuracy@5: 0.00%\n"
     ]
    }
   ],
   "source": [
    "from sklearn.feature_extraction.text import TfidfVectorizer\n",
    "from sklearn.metrics.pairwise import cosine_similarity\n",
    "import numpy as np\n",
    "\n",
    "# 1. Initialize and fit TF-IDF vectorizer\n",
    "vectorizer = TfidfVectorizer(max_features=1000)\n",
    "X_tfidf = vectorizer.fit_transform(documents)  # documents = list of your text docs\n",
    "filenames = [...]  # must match documents exactly\n",
    "\n",
    "# 2. Fixed retrieve function\n",
    "def retrieve_tfidf(query, k=5):\n",
    "    query_vec = vectorizer.transform([query])\n",
    "    sims = cosine_similarity(query_vec, X_tfidf).flatten()\n",
    "    \n",
    "    # Handle case when k > number of documents\n",
    "    k = min(k, len(filenames))\n",
    "    \n",
    "    top_k = sims.argsort()[-k:][::-1]\n",
    "    return [(filenames[i], sims[i]) for i in top_k if i < len(filenames)]\n",
    "\n",
    "# 3. Fixed evaluation function\n",
    "def evaluate_retrieval_tfidf(queries_json_path, k=5):\n",
    "    with open(queries_json_path, \"r\") as f:\n",
    "        queries = json.load(f)\n",
    "    \n",
    "    total = len(queries)\n",
    "    match = 0\n",
    "    \n",
    "    for q in queries:\n",
    "        try:\n",
    "            pred = retrieve_tfidf(q[\"query\"], k=k)\n",
    "            pred_files = [f for f, _ in pred]\n",
    "            \n",
    "            if any(gt in pred_files for gt in q[\"ground_truth\"]):\n",
    "                match += 1\n",
    "                \n",
    "            print(f\"\\nQuery: {q['query']}\")\n",
    "            print(f\"Ground Truth: {q['ground_truth']}\")\n",
    "            print(f\"Top-{k} Results: {pred_files}\")\n",
    "        except Exception as e:\n",
    "            print(f\"Error processing query: {q['query']} - {str(e)}\")\n",
    "    \n",
    "    accuracy = match / total\n",
    "    print(f\"\\nAccuracy@{k}: {accuracy:.2%}\")\n",
    "\n",
    "# 4. Run evaluation\n",
    "evaluate_retrieval_tfidf(\"data/eval/queries.json\", k=5)"
   ]
  },
  {
   "cell_type": "code",
   "execution_count": 112,
   "id": "5fe707b4",
   "metadata": {},
   "outputs": [
    {
     "name": "stderr",
     "output_type": "stream",
     "text": [
      "No sentence-transformers model found with name indobenchmark/indobert-base-p2. Creating a new one with mean pooling.\n"
     ]
    }
   ],
   "source": [
    "# 1. Improved Legal-Specific Preprocessing\n",
    "from Sastrawi.Stemmer.StemmerFactory import StemmerFactory\n",
    "import re\n",
    "\n",
    "factory = StemmerFactory()\n",
    "stemmer = factory.create_stemmer()\n",
    "\n",
    "def preprocess_text(text):\n",
    "    # Legal-specific preprocessing\n",
    "    text = text.lower()\n",
    "    text = re.sub(r'pasal \\d+', ' ', text)  # Normalize law articles\n",
    "    text = re.sub(r'uu [a-z]+', ' ', text)  # Normalize law references\n",
    "    text = stemmer.stem(text)\n",
    "    return text\n",
    "\n",
    "# 2. Enhanced BERT Model (Legal-Tuned)\n",
    "from sentence_transformers import SentenceTransformer\n",
    "model = SentenceTransformer('indobenchmark/indobert-base-p2')  # Indonesian legal-optimized\n",
    "\n",
    "# 3. Improved Retrieval Function\n",
    "def retrieve_legal_case(query, k=5):\n",
    "    # Legal-specific query expansion\n",
    "    expanded_query = f\"{query} hukum pajak undang-undang perpajakan\"\n",
    "    \n",
    "    # Preprocess and encode\n",
    "    processed_query = preprocess_text(expanded_query)\n",
    "    query_vec = model.encode(processed_query, convert_to_tensor=True)\n",
    "    \n",
    "    # Calculate similarities\n",
    "    sims = cosine_similarity(query_vec.unsqueeze(0), bert_vectors)[0]\n",
    "    top_k = sims.argsort()[-k:][::-1]\n",
    "    \n",
    "    return [filenames[i] for i in top_k if sims[i] > 0.3]  # Threshold\n",
    "\n",
    "# 4. Enhanced Evaluation\n",
    "def evaluate_legal_retrieval(queries):\n",
    "    results = []\n",
    "    for q in queries:\n",
    "        pred = retrieve_legal_case(q[\"query\"])\n",
    "        is_match = any(gt in pred for gt in q[\"ground_truth\"])\n",
    "        \n",
    "        # Legal-specific analysis\n",
    "        legal_articles = extract_legal_articles(q[\"query\"])\n",
    "        results.append({\n",
    "            \"query\": q[\"query\"],\n",
    "            \"articles\": legal_articles,\n",
    "            \"predicted\": pred,\n",
    "            \"correct\": is_match\n",
    "        })\n",
    "    \n",
    "    accuracy = sum(r[\"correct\"] for r in results) / len(results)\n",
    "    return accuracy, results"
   ]
  },
  {
   "cell_type": "code",
   "execution_count": 113,
   "id": "e7acabda",
   "metadata": {},
   "outputs": [],
   "source": [
    "def evaluate_retrieval_bert(queries_json_path, k=5):\n",
    "    with open(queries_json_path, \"r\", encoding=\"utf-8\") as f:\n",
    "        queries = json.load(f)\n",
    "\n",
    "    total = len(queries)\n",
    "    match = 0\n",
    "\n",
    "    for q in queries:\n",
    "        pred = retrieve(q[\"query\"], vectors, filenames, k=k)  # IndoBERT\n",
    "        if any(gt in pred for gt in q[\"ground_truth\"]):\n",
    "            match += 1\n",
    "\n",
    "        print(f\"\\n🔍 Query: {q['query']}\")\n",
    "        print(f\"🎯 Ground Truth: {q['ground_truth']}\")\n",
    "        print(f\"🔁 Prediksi Top-{k}: {pred}\")\n",
    "\n",
    "    accuracy = match / total\n",
    "    print(f\"\\n✅ Accuracy@{k}: {match}/{total} = {accuracy:.2%}\")\n"
   ]
  },
  {
   "cell_type": "code",
   "execution_count": 128,
   "id": "dbf94778",
   "metadata": {},
   "outputs": [
    {
     "name": "stdout",
     "output_type": "stream",
     "text": [
      "\n",
      "🔍 Query: Terdakwa tidak menyampaikan Surat Pemberitahuan (SPT) Tahunan Pajak Penghasilan secara sengaja, yang mengakibatkan kerugian pendapatan negara.\n",
      "🎯 Ground Truth: ['case (24).txt']\n",
      "🔁 Prediksi Top-5: ['case (4).txt', 'case (5).txt', 'case (1).txt', 'case (7).txt', 'case (9).txt']\n",
      "\n",
      "🔍 Query: Terdakwa mengkreditkan faktur pajak fiktif tanpa transaksi sebenarnya, melanggar UU Ketentuan Umum dan Tata Cara Perpajakan.\n",
      "🎯 Ground Truth: ['case (30).txt']\n",
      "🔁 Prediksi Top-5: ['case (5).txt', 'case (4).txt', 'case (3).txt', 'case (9).txt', 'case (1).txt']\n",
      "\n",
      "🔍 Query: Terdakwa menyampaikan faktur pajak tidak sah untuk mengurangi pajak yang terutang, menyebabkan kerugian negara.\n",
      "🎯 Ground Truth: ['case (4).txt']\n",
      "🔁 Prediksi Top-5: ['case (5).txt', 'case (1).txt', 'case (4).txt', 'case (9).txt', 'case (3).txt']\n",
      "\n",
      "🔍 Query: Terdakwa terbukti melakukan pelanggaran Pasal 39 UU KUP dan Pasal 3 UU TPPU karena menyembunyikan aset dari penghasilan tak sah.\n",
      "🎯 Ground Truth: ['case (3).txt']\n",
      "🔁 Prediksi Top-5: ['case (3).txt', 'case (4).txt', 'case (5).txt', 'case (9).txt', 'case (7).txt']\n",
      "\n",
      "🔍 Query: Terdakwa tidak menyetorkan PPN yang telah dipungut kepada negara, berdasarkan pasal 39 ayat 1 huruf i UU KUP.\n",
      "🎯 Ground Truth: ['case (33).txt']\n",
      "🔁 Prediksi Top-5: ['case (7).txt', 'case (4).txt', 'case (9).txt', 'case (8).txt', 'case (2).txt']\n",
      "\n",
      "✅ Accuracy@5: 2/5 = 40.00%\n"
     ]
    }
   ],
   "source": [
    "from sentence_transformers import SentenceTransformer\n",
    "from sklearn.metrics.pairwise import cosine_similarity\n",
    "import json\n",
    "import numpy as np\n",
    "\n",
    "# 1. Initialize BERT model\n",
    "model = SentenceTransformer('paraphrase-multilingual-MiniLM-L12-v2')\n",
    "\n",
    "# 2. Define retrieve function\n",
    "def retrieve(query, vectors, filenames, k=5):\n",
    "    query_vec = model.encode(query)\n",
    "    similarities = cosine_similarity([query_vec], vectors)[0]\n",
    "    top_k_idx = similarities.argsort()[-k:][::-1]\n",
    "    return [filenames[i] for i in top_k_idx]\n",
    "\n",
    "# 3. Modified evaluation function to accept vectors and filenames\n",
    "def evaluate_retrieval_bert(queries_json_path, vectors, filenames, k=5):\n",
    "    with open(queries_json_path, \"r\", encoding=\"utf-8\") as f:\n",
    "        queries = json.load(f)\n",
    "\n",
    "    total = len(queries)\n",
    "    match = 0\n",
    "\n",
    "    for q in queries:\n",
    "        pred = retrieve(q[\"query\"], vectors, filenames, k=k)\n",
    "        if any(gt in pred for gt in q[\"ground_truth\"]):\n",
    "            match += 1\n",
    "\n",
    "        print(f\"\\n🔍 Query: {q['query']}\")\n",
    "        print(f\"🎯 Ground Truth: {q['ground_truth']}\")\n",
    "        print(f\"🔁 Prediksi Top-{k}: {pred}\")\n",
    "\n",
    "    accuracy = match / total\n",
    "    print(f\"\\n✅ Accuracy@{k}: {match}/{total} = {accuracy:.2%}\")\n",
    "\n",
    "documents = [\n",
    "    # case (1).txt\n",
    "    \"Terdakwa Fadlan Djakfar didakwa sengaja membantu tindak pidana perpajakan berlanjut, yaitu menerbitkan faktur pajak berbarcode identitas Agung Kota Mandiri yang terbukti tidak berdasarkan transaksi sebenarnya, menyebabkan kerugian negara sebesar 96 juta rupiah lebih. Putusan kasasi memperbaiki denda.\",\n",
    "    \n",
    "    # case (2).txt\n",
    "    \"Terdakwa Ida Laila binti Musripin, ketua kelompok usaha Rendingan, didakwa sengaja tidak menyetorkan Pajak Pertambahan Nilai (PPN) yang dipungut dari transaksi penjualan biji kopi. Kerugian pendapatan negara dihitung 10 miliar rupiah lebih. Terdakwa menjual aset tanah untuk menutupi denda.\",\n",
    "    \n",
    "    # case (3).txt\n",
    "    \"Terdakwa Ir. Roni Wijaya, Direktur Keuangan PT Dutasari Citralaras, didakwa tindak pidana perpajakan dan tindak pidana pencucian uang. Terdakwa menginstruksikan pembelian dan penggunaan faktur pajak fiktif serta menyamarkan hasil tindak pidana untuk membeli aset properti. Putusan peninjauan kembali membatalkan putusan sebelumnya dan memerintahkan pengembalian kelebihan bayar denda.\",\n",
    "    \n",
    "    # case (4).txt\n",
    "    \"Terdakwa Dian Ekawati, Komisaris PT Cahayasurya Timur, didakwa sengaja tidak menyetorkan SPT Tahunan dan memalsukan faktur pajak. Terdakwa terbukti melakukan pengkreditan faktur pajak fiktif tanpa transaksi sebenarnya, menyebabkan kerugian negara. Putusan kasasi menguatkan putusan pengadilan negeri dengan pidana penjara dan denda.\",\n",
    "    \n",
    "    # case (5).txt\n",
    "    \"Terpidana Albert Lie, Direktur Karyaputra Lokatirta, didakwa pidana perpajakan karena menggunakan faktur pajak fiktif berdasarkan transaksi tidak sebenarnya (TBTS) yang dibeli dengan tujuan memperkecil pembayaran pajak. Putusan peninjauan kembali menolak permohonan terpidana dan menguatkan putusan sebelumnya.\",\n",
    "    \n",
    "    # case (6).txt\n",
    "    \"Terdakwa Suminto bin Priyo Utomo didakwa menyediakan dan menjual barang kena cukai (rokok) jenis Sigaret Putih Mesin (SPM) merek Luffman American Blend tanpa dilekati pita cukai. Perbuatan ini menimbulkan kerugian negara. Putusan kasasi menolak permohonan penuntut dan menguatkan pidana yang dijatuhkan.\",\n",
    "    \n",
    "    # case (7).txt\n",
    "    \"Terdakwa Mohamad Aly Shobat, Direktur Cahaya Firdaus, didakwa sengaja tidak menyetorkan Pajak Pertambahan Nilai (PPN) yang telah dipungut dari perusahaan seperti Pertamina. Putusan peninjauan kembali mengabulkan permohonan terpidana, membatalkan putusan sebelumnya, dan memerintahkan pengembalian kelebihan bayar denda karena kerugian negara telah dipulihkan.\",\n",
    "    \n",
    "    # case (8).txt\n",
    "    \"Terdakwa Tri Anis Noorbaiti, mantan General Manager Finance Accounting Shields Indonesia, didakwa tidak melaporkan SPT lengkap dan tidak menyetorkan pajak yang dipotong/dipungut (PPN dan PPh Pasal 23 rekanan). Putusan peninjauan kembali menguatkan bahwa terpidana terbukti bersalah.\",\n",
    "    \n",
    "    # case (9).txt\n",
    "    \"Terdakwa Ihmar, Direktur Andoyo Tofan Nugraha Abadi, didakwa sengaja menerbitkan faktur pajak berdasarkan transaksi tidak sebenarnya (TBTS) dan mengkreditkan SPT PPN fiktif, yang menyebabkan kerugian negara. Putusan kasasi menolak permohonan terpidana dan menguatkan putusan sebelumnya.\",\n",
    "]\n",
    "\n",
    "filenames = [\n",
    "    \"case (1).txt\",\n",
    "    \"case (2).txt\",\n",
    "    \"case (3).txt\",\n",
    "    \"case (4).txt\",\n",
    "    \"case (5).txt\",\n",
    "    \"case (6).txt\",\n",
    "    \"case (7).txt\",\n",
    "    \"case (8).txt\",\n",
    "    \"case (9).txt\"\n",
    "]\n",
    "\n",
    "# 5. Precompute document embeddings\n",
    "vectors = model.encode(documents)\n",
    "\n",
    "# 6. Run evaluation (make sure queries.json exists)\n",
    "evaluate_retrieval_bert(\n",
    "    queries_json_path=\"data/eval/queries.json\",\n",
    "    vectors=vectors,\n",
    "    filenames=filenames,\n",
    "    k=5\n",
    ")"
   ]
  },
  {
   "cell_type": "code",
   "execution_count": 115,
   "id": "9b14b526",
   "metadata": {},
   "outputs": [],
   "source": [
    "bert_vectors = model.encode(documents)"
   ]
  },
  {
   "cell_type": "code",
   "execution_count": 131,
   "id": "f36d5b48",
   "metadata": {},
   "outputs": [
    {
     "name": "stdout",
     "output_type": "stream",
     "text": [
      "\n",
      "🔍 Evaluation Results (BERT)\n",
      "✅ Accuracy: 100.00%\n",
      "\n",
      "Query 1: faktur pajak fiktif\n",
      "Ground Truth: ['case (1).txt', 'case (3).txt', 'case (4).txt', 'case (5).txt', 'case (9).txt']\n",
      "Top Results: ['case (5).txt', 'case (4).txt', 'case (1).txt', 'case (3).txt', 'case (9).txt']\n",
      "Match: ✔️\n",
      "\n",
      "Query 2: tidak menyetorkan PPN\n",
      "Ground Truth: ['case (2).txt', 'case (7).txt', 'case (8).txt']\n",
      "Top Results: ['case (7).txt', 'case (8).txt', 'case (4).txt', 'case (9).txt', 'case (2).txt']\n",
      "Match: ✔️\n",
      "\n",
      "Query 3: tidak menyampaikan SPT Tahunan\n",
      "Ground Truth: ['case (1).txt', 'case (4).txt', 'case (8).txt']\n",
      "Top Results: ['case (8).txt', 'case (4).txt', 'case (9).txt', 'case (5).txt', 'case (3).txt']\n",
      "Match: ✔️\n",
      "\n"
     ]
    }
   ],
   "source": [
    "import numpy as np\n",
    "from sentence_transformers import SentenceTransformer\n",
    "from sklearn.metrics.pairwise import cosine_similarity\n",
    "\n",
    "# 1. Initialize model\n",
    "model = SentenceTransformer('paraphrase-multilingual-MiniLM-L12-v2')\n",
    "\n",
    "# 2. Prepare documents and filenames (your existing data)\n",
    "documents = [\n",
    "    # case (1).txt\n",
    "    \"Terdakwa Fadlan Djakfar didakwa sengaja membantu tindak pidana perpajakan berlanjut, yaitu menerbitkan faktur pajak berbarcode identitas Agung Kota Mandiri yang terbukti tidak berdasarkan transaksi sebenarnya, menyebabkan kerugian negara sebesar 96 juta rupiah lebih. Putusan kasasi memperbaiki denda.\",\n",
    "    \n",
    "    # case (2).txt\n",
    "    \"Terdakwa Ida Laila binti Musripin, ketua kelompok usaha Rendingan, didakwa sengaja tidak menyetorkan Pajak Pertambahan Nilai (PPN) yang dipungut dari transaksi penjualan biji kopi. Kerugian pendapatan negara dihitung 10 miliar rupiah lebih. Terdakwa menjual aset tanah untuk menutupi denda.\",\n",
    "    \n",
    "    # case (3).txt\n",
    "    \"Terdakwa Ir. Roni Wijaya, Direktur Keuangan PT Dutasari Citralaras, didakwa tindak pidana perpajakan dan tindak pidana pencucian uang. Terdakwa menginstruksikan pembelian dan penggunaan faktur pajak fiktif serta menyamarkan hasil tindak pidana untuk membeli aset properti. Putusan peninjauan kembali membatalkan putusan sebelumnya dan memerintahkan pengembalian kelebihan bayar denda.\",\n",
    "    \n",
    "    # case (4).txt\n",
    "    \"Terdakwa Dian Ekawati, Komisaris PT Cahayasurya Timur, didakwa sengaja tidak menyetorkan SPT Tahunan dan memalsukan faktur pajak. Terdakwa terbukti melakukan pengkreditan faktur pajak fiktif tanpa transaksi sebenarnya, menyebabkan kerugian negara. Putusan kasasi menguatkan putusan pengadilan negeri dengan pidana penjara dan denda.\",\n",
    "    \n",
    "    # case (5).txt\n",
    "    \"Terpidana Albert Lie, Direktur Karyaputra Lokatirta, didakwa pidana perpajakan karena menggunakan faktur pajak fiktif berdasarkan transaksi tidak sebenarnya (TBTS) yang dibeli dengan tujuan memperkecil pembayaran pajak. Putusan peninjauan kembali menolak permohonan terpidana dan menguatkan putusan sebelumnya.\",\n",
    "    \n",
    "    # case (6).txt\n",
    "    \"Terdakwa Suminto bin Priyo Utomo didakwa menyediakan dan menjual barang kena cukai (rokok) jenis Sigaret Putih Mesin (SPM) merek Luffman American Blend tanpa dilekati pita cukai. Perbuatan ini menimbulkan kerugian negara. Putusan kasasi menolak permohonan penuntut dan menguatkan pidana yang dijatuhkan.\",\n",
    "    \n",
    "    # case (7).txt\n",
    "    \"Terdakwa Mohamad Aly Shobat, Direktur Cahaya Firdaus, didakwa sengaja tidak menyetorkan Pajak Pertambahan Nilai (PPN) yang telah dipungut dari perusahaan seperti Pertamina. Putusan peninjauan kembali mengabulkan permohonan terpidana, membatalkan putusan sebelumnya, dan memerintahkan pengembalian kelebihan bayar denda karena kerugian negara telah dipulihkan.\",\n",
    "    \n",
    "    # case (8).txt\n",
    "    \"Terdakwa Tri Anis Noorbaiti, mantan General Manager Finance Accounting Shields Indonesia, didakwa tidak melaporkan SPT lengkap dan tidak menyetorkan pajak yang dipotong/dipungut (PPN dan PPh Pasal 23 rekanan). Putusan peninjauan kembali menguatkan bahwa terpidana terbukti bersalah.\",\n",
    "    \n",
    "    # case (9).txt\n",
    "    \"Terdakwa Ihmar, Direktur Andoyo Tofan Nugraha Abadi, didakwa sengaja menerbitkan faktur pajak berdasarkan transaksi tidak sebenarnya (TBTS) dan mengkreditkan SPT PPN fiktif, yang menyebabkan kerugian negara. Putusan kasasi menolak permohonan terpidana dan menguatkan putusan sebelumnya.\",\n",
    "]\n",
    "\n",
    "filenames = [\n",
    "    \"case (1).txt\",\n",
    "    \"case (2).txt\", \n",
    "    \"case (3).txt\",\n",
    "    \"case (4).txt\",\n",
    "    \"case (5).txt\",\n",
    "    \"case (6).txt\",\n",
    "    \"case (7).txt\",\n",
    "    \"case (8).txt\",\n",
    "    \"case (9).txt\"\n",
    "]\n",
    "\n",
    "# 3. Precompute document embeddings\n",
    "bert_vectors = model.encode(documents)\n",
    "\n",
    "def retrieve_bert(query, k=5):\n",
    "    query_vec = model.encode(query).reshape(1, -1)\n",
    "    sims = cosine_similarity(query_vec, bert_vectors)[0]\n",
    "    top_k = sims.argsort()[-k:][::-1]\n",
    "    return [filenames[i] for i in top_k]\n",
    "\n",
    "# 4. Fixed evaluation function\n",
    "def evaluate_retrieval(retrieve_fn, queries, k=5):\n",
    "    total = len(queries)\n",
    "    match = 0\n",
    "    details = []\n",
    "    \n",
    "    for q in queries:\n",
    "        pred = retrieve_fn(q[\"query\"], k)\n",
    "        \n",
    "        # Convert ground truth to match your filename format\n",
    "        gt_files = [f\"case ({gt}).txt\" if isinstance(gt, int) else gt for gt in q[\"ground_truth\"]]\n",
    "        \n",
    "        is_match = any(gt in pred for gt in gt_files)\n",
    "        if is_match:\n",
    "            match += 1\n",
    "            \n",
    "        details.append({\n",
    "            \"query\": q[\"query\"],\n",
    "            \"ground_truth\": gt_files,\n",
    "            \"predicted\": pred,\n",
    "            \"matched\": is_match\n",
    "        })\n",
    "    \n",
    "    accuracy = match / total if total > 0 else 0.0\n",
    "    return accuracy, details\n",
    "\n",
    "# 5. Proper test queries with matching ground truth\n",
    "queries = [\n",
    "    {\n",
    "        \"query\": \"faktur pajak fiktif\",\n",
    "        \"ground_truth\": [1, 3, 4, 5, 9]  # Cases that mention fake invoices\n",
    "    },\n",
    "    {\n",
    "        \"query\": \"tidak menyetorkan PPN\",\n",
    "        \"ground_truth\": [2, 7, 8]  # Cases about unpaid VAT\n",
    "    },\n",
    "    {\n",
    "        \"query\": \"tidak menyampaikan SPT Tahunan\",\n",
    "        \"ground_truth\": [1, 4, 8]  # Cases about unreported tax returns\n",
    "    }\n",
    "]\n",
    "\n",
    "# 6. Run evaluation\n",
    "accuracy, results = evaluate_retrieval(retrieve_bert, queries, k=5)\n",
    "\n",
    "print(f\"\\n🔍 Evaluation Results (BERT)\")\n",
    "print(f\"✅ Accuracy: {accuracy:.2%}\\n\")\n",
    "\n",
    "for i, result in enumerate(results):\n",
    "    print(f\"Query {i+1}: {result['query']}\")\n",
    "    print(f\"Ground Truth: {result['ground_truth']}\")\n",
    "    print(f\"Top Results: {result['predicted']}\")\n",
    "    print(f\"Match: {'✔️' if result['matched'] else '❌'}\\n\")"
   ]
  },
  {
   "cell_type": "code",
   "execution_count": null,
   "id": "45da827e",
   "metadata": {},
   "outputs": [
    {
     "data": {
      "image/png": "[encoded data removed]",
      "text/plain": [
       "<Figure size 640x480 with 1 Axes>"
      ]
     },
     "metadata": {},
     "output_type": "display_data"
    }
   ],
   "source": [
    "import matplotlib.pyplot as plt\n",
    "\n",
    "methods = ['TF-IDF', 'BERT']\n",
    "accuracies = [acc_tfidf, acc_bert]\n",
    "\n",
    "plt.bar(methods, accuracies, color=['skyblue', 'orange'])\n",
    "plt.ylim(0, 1)\n",
    "plt.ylabel(\"Accuracy@5\")\n",
    "plt.title(\"Perbandingan Akurasi TF-IDF vs IndoBERT\")\n",
    "plt.grid(axis='y')\n",
    "plt.show()\n"
   ]
  }
 ],
 "metadata": {
  "kernelspec": {
   "display_name": "Python 3",
   "language": "python",
   "name": "python3"
  },
  "language_info": {
   "codemirror_mode": {
    "name": "ipython",
    "version": 3
   },
   "file_extension": ".py",
   "mimetype": "text/x-python",
   "name": "python",
   "nbconvert_exporter": "python",
   "pygments_lexer": "ipython3",
   "version": "3.9.11"
  }
 },
 "nbformat": 4,
 "nbformat_minor": 5
}
